{
 "cells": [
  {
   "cell_type": "markdown",
   "id": "7bcd162e",
   "metadata": {},
   "source": [
    "# Name: Sanchit Kripalani<br> Batch: M1 <br>Roll No: 31145"
   ]
  },
  {
   "cell_type": "markdown",
   "id": "22a07560",
   "metadata": {},
   "source": [
    "## Problem Statement"
   ]
  },
  {
   "cell_type": "markdown",
   "id": "80decc05",
   "metadata": {},
   "source": [
    "Perform the following operations using Python on any open source dataset (e.g., data.csv)\n",
    "\n",
    "1. Import all the required Python Libraries.\n",
    "\n",
    "2. Locate an open source data from the web (e.g. https://www.kaggle.com). Provide a clear description of the data and its source (i.e., URL of the web site).\n",
    "\n",
    "3. Load the Dataset into pandas data frame.\n",
    "\n",
    "4. Data Preprocessing: check for missing values in the data using pandas insult(), describe()) function to get some initial statistics. Provide variable descriptions. Types of variables etc. Check the dimensions of the data frame.\n",
    "\n",
    "5. Data Formatting and Normalization: Summarize the types of variables by checking the data types.\n",
    "\n",
    "6. Turn categorical variables into quantitative variables in python."
   ]
  },
  {
   "cell_type": "markdown",
   "id": "518c1c4b",
   "metadata": {},
   "source": [
    "## Get the Data"
   ]
  },
  {
   "cell_type": "markdown",
   "id": "16984e33",
   "metadata": {},
   "source": [
    "Data Description: The Titanic Dataset is the one of most popular open-source dataset on the information of the passengers that were onboard the infamous Titanic. It contains personal information of each and every passenger including Name, Age, Sex, Ticket, Fare etc. It also contains the information about which passenger survived the sinking of the \"unsinkable\" ship, making it a great dataset to perform data manipulation and linear regression techinques for predicting survivability."
   ]
  },
  {
   "cell_type": "code",
   "execution_count": 1,
   "id": "09506a5d",
   "metadata": {},
   "outputs": [],
   "source": [
    "# Import necessary libraries\n",
    "import pandas as pd\n",
    "import numpy as np"
   ]
  },
  {
   "cell_type": "code",
   "execution_count": 2,
   "id": "565bf1e4",
   "metadata": {},
   "outputs": [],
   "source": [
    "# Import the dataset (Titanic Survivor Dataset)\n",
    "input_data = pd.read_csv('train_titanic.csv')\n",
    "\n",
    "# Raw data is a pandas Dataframe used to store the data\n",
    "raw_data = pd.DataFrame(input_data)"
   ]
  },
  {
   "cell_type": "markdown",
   "id": "b1a6a0d2",
   "metadata": {},
   "source": [
    "## Initial Observations"
   ]
  },
  {
   "cell_type": "code",
   "execution_count": 3,
   "id": "b8b83ad3",
   "metadata": {},
   "outputs": [
    {
     "data": {
      "text/html": [
       "<div>\n",
       "<style scoped>\n",
       "    .dataframe tbody tr th:only-of-type {\n",
       "        vertical-align: middle;\n",
       "    }\n",
       "\n",
       "    .dataframe tbody tr th {\n",
       "        vertical-align: top;\n",
       "    }\n",
       "\n",
       "    .dataframe thead th {\n",
       "        text-align: right;\n",
       "    }\n",
       "</style>\n",
       "<table border=\"1\" class=\"dataframe\">\n",
       "  <thead>\n",
       "    <tr style=\"text-align: right;\">\n",
       "      <th></th>\n",
       "      <th>PassengerId</th>\n",
       "      <th>Survived</th>\n",
       "      <th>Pclass</th>\n",
       "      <th>Name</th>\n",
       "      <th>Sex</th>\n",
       "      <th>Age</th>\n",
       "      <th>SibSp</th>\n",
       "      <th>Parch</th>\n",
       "      <th>Ticket</th>\n",
       "      <th>Fare</th>\n",
       "      <th>Cabin</th>\n",
       "      <th>Embarked</th>\n",
       "    </tr>\n",
       "  </thead>\n",
       "  <tbody>\n",
       "    <tr>\n",
       "      <th>0</th>\n",
       "      <td>1</td>\n",
       "      <td>0</td>\n",
       "      <td>3</td>\n",
       "      <td>Braund, Mr. Owen Harris</td>\n",
       "      <td>male</td>\n",
       "      <td>22.0</td>\n",
       "      <td>1</td>\n",
       "      <td>0</td>\n",
       "      <td>A/5 21171</td>\n",
       "      <td>7.2500</td>\n",
       "      <td>NaN</td>\n",
       "      <td>S</td>\n",
       "    </tr>\n",
       "    <tr>\n",
       "      <th>1</th>\n",
       "      <td>2</td>\n",
       "      <td>1</td>\n",
       "      <td>1</td>\n",
       "      <td>Cumings, Mrs. John Bradley (Florence Briggs Th...</td>\n",
       "      <td>female</td>\n",
       "      <td>38.0</td>\n",
       "      <td>1</td>\n",
       "      <td>0</td>\n",
       "      <td>PC 17599</td>\n",
       "      <td>71.2833</td>\n",
       "      <td>C85</td>\n",
       "      <td>C</td>\n",
       "    </tr>\n",
       "    <tr>\n",
       "      <th>2</th>\n",
       "      <td>3</td>\n",
       "      <td>1</td>\n",
       "      <td>3</td>\n",
       "      <td>Heikkinen, Miss. Laina</td>\n",
       "      <td>female</td>\n",
       "      <td>26.0</td>\n",
       "      <td>0</td>\n",
       "      <td>0</td>\n",
       "      <td>STON/O2. 3101282</td>\n",
       "      <td>7.9250</td>\n",
       "      <td>NaN</td>\n",
       "      <td>S</td>\n",
       "    </tr>\n",
       "    <tr>\n",
       "      <th>3</th>\n",
       "      <td>4</td>\n",
       "      <td>1</td>\n",
       "      <td>1</td>\n",
       "      <td>Futrelle, Mrs. Jacques Heath (Lily May Peel)</td>\n",
       "      <td>female</td>\n",
       "      <td>35.0</td>\n",
       "      <td>1</td>\n",
       "      <td>0</td>\n",
       "      <td>113803</td>\n",
       "      <td>53.1000</td>\n",
       "      <td>C123</td>\n",
       "      <td>S</td>\n",
       "    </tr>\n",
       "    <tr>\n",
       "      <th>4</th>\n",
       "      <td>5</td>\n",
       "      <td>0</td>\n",
       "      <td>3</td>\n",
       "      <td>Allen, Mr. William Henry</td>\n",
       "      <td>male</td>\n",
       "      <td>35.0</td>\n",
       "      <td>0</td>\n",
       "      <td>0</td>\n",
       "      <td>373450</td>\n",
       "      <td>8.0500</td>\n",
       "      <td>NaN</td>\n",
       "      <td>S</td>\n",
       "    </tr>\n",
       "  </tbody>\n",
       "</table>\n",
       "</div>"
      ],
      "text/plain": [
       "   PassengerId  Survived  Pclass  \\\n",
       "0            1         0       3   \n",
       "1            2         1       1   \n",
       "2            3         1       3   \n",
       "3            4         1       1   \n",
       "4            5         0       3   \n",
       "\n",
       "                                                Name     Sex   Age  SibSp  \\\n",
       "0                            Braund, Mr. Owen Harris    male  22.0      1   \n",
       "1  Cumings, Mrs. John Bradley (Florence Briggs Th...  female  38.0      1   \n",
       "2                             Heikkinen, Miss. Laina  female  26.0      0   \n",
       "3       Futrelle, Mrs. Jacques Heath (Lily May Peel)  female  35.0      1   \n",
       "4                           Allen, Mr. William Henry    male  35.0      0   \n",
       "\n",
       "   Parch            Ticket     Fare Cabin Embarked  \n",
       "0      0         A/5 21171   7.2500   NaN        S  \n",
       "1      0          PC 17599  71.2833   C85        C  \n",
       "2      0  STON/O2. 3101282   7.9250   NaN        S  \n",
       "3      0            113803  53.1000  C123        S  \n",
       "4      0            373450   8.0500   NaN        S  "
      ]
     },
     "execution_count": 3,
     "metadata": {},
     "output_type": "execute_result"
    }
   ],
   "source": [
    "# The .head() method of pandas DataFrame is used to display a part of the data stored\n",
    "raw_data.head()"
   ]
  },
  {
   "cell_type": "markdown",
   "id": "7f046133",
   "metadata": {},
   "source": [
    "As we can see, the data consists of the passenger information of the Passengers on board of the Titanic Ship. Each row represent the information of each passenger including Name, Age, Sex etc."
   ]
  },
  {
   "cell_type": "code",
   "execution_count": 4,
   "id": "f2234421",
   "metadata": {},
   "outputs": [
    {
     "data": {
      "text/plain": [
       "PassengerId      int64\n",
       "Survived         int64\n",
       "Pclass           int64\n",
       "Name            object\n",
       "Sex             object\n",
       "Age            float64\n",
       "SibSp            int64\n",
       "Parch            int64\n",
       "Ticket          object\n",
       "Fare           float64\n",
       "Cabin           object\n",
       "Embarked        object\n",
       "dtype: object"
      ]
     },
     "execution_count": 4,
     "metadata": {},
     "output_type": "execute_result"
    }
   ],
   "source": [
    "# .dtypes attribute is used to return the data types of all the columns of the dataframe\n",
    "raw_data.dtypes"
   ]
  },
  {
   "cell_type": "markdown",
   "id": "ec065833",
   "metadata": {},
   "source": [
    "It is observed that the data mainly consists of integer and object types. \n",
    "\n",
    "- Integer is used to represent all numerical data types as well as categorical types.\n",
    "- Object types is used to represent mixed types. Here, as seen above, Name, Sex and Embarked are string values which are represented as objects."
   ]
  },
  {
   "cell_type": "code",
   "execution_count": 5,
   "id": "17c07775",
   "metadata": {},
   "outputs": [
    {
     "name": "stdout",
     "output_type": "stream",
     "text": [
      "Data Missing Values:\n",
      " PassengerId      0\n",
      "Survived         0\n",
      "Pclass           0\n",
      "Name             0\n",
      "Sex              0\n",
      "Age            177\n",
      "SibSp            0\n",
      "Parch            0\n",
      "Ticket           0\n",
      "Fare             0\n",
      "Cabin          687\n",
      "Embarked         2\n",
      "dtype: int64\n"
     ]
    }
   ],
   "source": [
    "# Printing the no. of NaN values in all columns\n",
    "\n",
    "print(\"Data Missing Values:\\n\",raw_data.isna().sum())"
   ]
  },
  {
   "cell_type": "markdown",
   "id": "8390f56c",
   "metadata": {},
   "source": [
    "Thus the Age, Cabin and Embarked columns have null values. We will try and replace null values in every column based on the data type of the column. "
   ]
  },
  {
   "cell_type": "code",
   "execution_count": 6,
   "id": "2addd597",
   "metadata": {},
   "outputs": [
    {
     "name": "stdout",
     "output_type": "stream",
     "text": [
      "<class 'pandas.core.frame.DataFrame'>\n",
      "RangeIndex: 891 entries, 0 to 890\n",
      "Data columns (total 12 columns):\n",
      " #   Column       Non-Null Count  Dtype  \n",
      "---  ------       --------------  -----  \n",
      " 0   PassengerId  891 non-null    int64  \n",
      " 1   Survived     891 non-null    int64  \n",
      " 2   Pclass       891 non-null    int64  \n",
      " 3   Name         891 non-null    object \n",
      " 4   Sex          891 non-null    object \n",
      " 5   Age          714 non-null    float64\n",
      " 6   SibSp        891 non-null    int64  \n",
      " 7   Parch        891 non-null    int64  \n",
      " 8   Ticket       891 non-null    object \n",
      " 9   Fare         891 non-null    float64\n",
      " 10  Cabin        204 non-null    object \n",
      " 11  Embarked     889 non-null    object \n",
      "dtypes: float64(2), int64(5), object(5)\n",
      "memory usage: 83.7+ KB\n"
     ]
    }
   ],
   "source": [
    "# The .info() function is used to provide a concise summary of the DataFrame\n",
    "raw_data.info()"
   ]
  },
  {
   "cell_type": "markdown",
   "id": "6c24762b",
   "metadata": {},
   "source": [
    "It can therefore be concluded that .info() is the method which can do the task of providing the information given by the 2 individual methods above (Getting the data type and the number of null values in each column)."
   ]
  },
  {
   "cell_type": "markdown",
   "id": "f8cca102",
   "metadata": {},
   "source": [
    "### Cabin Column Preprocessing"
   ]
  },
  {
   "cell_type": "code",
   "execution_count": 7,
   "id": "e0ccbd6c",
   "metadata": {},
   "outputs": [
    {
     "name": "stdout",
     "output_type": "stream",
     "text": [
      "Cabin: ['n' 'C' 'E' 'G' 'D' 'A' 'B' 'F' 'T']\n"
     ]
    }
   ],
   "source": [
    "# Cabin column seems to have a lot of missing values.\n",
    "# We will replace all values with the first alphabet of the Cabin\n",
    "\n",
    "raw_data['Cabin'] = raw_data['Cabin'].apply(lambda x: str(x)[0])\n",
    "\n",
    "# Null values will be set to 'n'.\n",
    "print(\"Cabin:\", raw_data['Cabin'].unique())"
   ]
  },
  {
   "cell_type": "markdown",
   "id": "c735fbc3",
   "metadata": {},
   "source": [
    "Only the First alphabet of the Cabin is important, as can be observed from the layout of Titanic. Cabin Names are based on the floor that each cabin was placed. (Cabin A was on Deck level etc)\n",
    "\n",
    "All the unique cabins alphabets have been found. This can later be used to provide categorical encoding to cabin names ."
   ]
  },
  {
   "cell_type": "markdown",
   "id": "afd508ca",
   "metadata": {},
   "source": [
    "## Filling the NaN values"
   ]
  },
  {
   "cell_type": "code",
   "execution_count": 8,
   "id": "4b569f63",
   "metadata": {},
   "outputs": [
    {
     "name": "stdout",
     "output_type": "stream",
     "text": [
      "Modal place of Embarkment was:  S\n",
      "Number of missing values in the Embarked column:  0\n"
     ]
    }
   ],
   "source": [
    "# First, let's replace NaN embarkations with the modal value of embarkation\n",
    "\n",
    "# mode_embarked will get the modal place of Embarkment \n",
    "mode_embarked = raw_data['Embarked'].mode()[0]\n",
    "\n",
    "raw_data['Embarked'].fillna(value=mode_embarked, inplace=True)\n",
    "\n",
    "print(\"Modal place of Embarkment was: \", mode_embarked)\n",
    "print(\"Number of missing values in the Embarked column: \", raw_data['Embarked'].isna().sum())"
   ]
  },
  {
   "cell_type": "code",
   "execution_count": 9,
   "id": "4a8e4bc3",
   "metadata": {},
   "outputs": [
    {
     "name": "stdout",
     "output_type": "stream",
     "text": [
      "Mean training data is:  29.69911764705882\n",
      "\n",
      "Number of missing training values in the Age column:  0\n"
     ]
    }
   ],
   "source": [
    "# Next, let's replace NaN Ages with the mean age in the dataset\n",
    "\n",
    "mean_training_age = raw_data['Age'].mean()\n",
    "\n",
    "print(\"Mean training data is: \", mean_training_age)\n",
    "\n",
    "# Replace NaN values of Age column with Mean\n",
    "raw_data['Age'].fillna(value=mean_training_age, inplace=True)\n",
    "\n",
    "print(\"\\nNumber of missing training values in the Age column: \", raw_data['Age'].isna().sum())"
   ]
  },
  {
   "cell_type": "code",
   "execution_count": 10,
   "id": "b7fd8cd5",
   "metadata": {},
   "outputs": [
    {
     "name": "stdout",
     "output_type": "stream",
     "text": [
      "Training Data Missing Values:\n",
      " PassengerId    0\n",
      "Survived       0\n",
      "Pclass         0\n",
      "Name           0\n",
      "Sex            0\n",
      "Age            0\n",
      "SibSp          0\n",
      "Parch          0\n",
      "Ticket         0\n",
      "Fare           0\n",
      "Cabin          0\n",
      "Embarked       0\n",
      "dtype: int64\n"
     ]
    }
   ],
   "source": [
    "# Final check for all columns\n",
    "print(\"Training Data Missing Values:\\n\", raw_data.isna().sum())"
   ]
  },
  {
   "cell_type": "markdown",
   "id": "9f3db9fc",
   "metadata": {},
   "source": [
    "All the null values are thus filled in."
   ]
  },
  {
   "cell_type": "markdown",
   "id": "a12f7646",
   "metadata": {},
   "source": [
    "## Encoding Categorical Values"
   ]
  },
  {
   "cell_type": "code",
   "execution_count": 11,
   "id": "ae2a1890",
   "metadata": {},
   "outputs": [],
   "source": [
    "# Used to encode categorical values\n",
    "# We will be using Label Encoder for this task\n",
    "from sklearn.preprocessing import LabelEncoder\n",
    "encoder = LabelEncoder()"
   ]
  },
  {
   "cell_type": "code",
   "execution_count": 12,
   "id": "8102997e",
   "metadata": {},
   "outputs": [],
   "source": [
    "raw_data['Sex'] = encoder.fit_transform(raw_data['Sex'])"
   ]
  },
  {
   "cell_type": "code",
   "execution_count": 13,
   "id": "033101fa",
   "metadata": {},
   "outputs": [
    {
     "data": {
      "text/plain": [
       "array([1, 0])"
      ]
     },
     "execution_count": 13,
     "metadata": {},
     "output_type": "execute_result"
    }
   ],
   "source": [
    "raw_data['Sex'].unique()"
   ]
  },
  {
   "cell_type": "markdown",
   "id": "b5d0afa4",
   "metadata": {},
   "source": [
    "Sex has thus been encoded into 0/1."
   ]
  },
  {
   "cell_type": "code",
   "execution_count": 14,
   "id": "427351f3",
   "metadata": {},
   "outputs": [],
   "source": [
    "# Similarly, we encode all the ports (Embarkments)\n",
    "# And then we also encode cabin data\n",
    "\n",
    "raw_data['Embarked'] = encoder.fit_transform(raw_data['Embarked'])\n",
    "raw_data['Cabin'] = encoder.fit_transform(raw_data['Cabin'])"
   ]
  },
  {
   "cell_type": "markdown",
   "id": "ef7bdb20",
   "metadata": {},
   "source": [
    "**Major Difference between LabelEncoder and get_dummies**\n",
    "\n",
    "- LabelEncoder creates encodings for categorical values and replaces the each entry in the dataframe with a numeric value. The number of columns remains the same.\n",
    "- get_dummies on the other hand, creates a dataframe with one hot encoding of each entry. The number of columns are equal to to number of unique categorical values."
   ]
  },
  {
   "cell_type": "code",
   "execution_count": 15,
   "id": "bd535f11",
   "metadata": {},
   "outputs": [
    {
     "data": {
      "text/html": [
       "<div>\n",
       "<style scoped>\n",
       "    .dataframe tbody tr th:only-of-type {\n",
       "        vertical-align: middle;\n",
       "    }\n",
       "\n",
       "    .dataframe tbody tr th {\n",
       "        vertical-align: top;\n",
       "    }\n",
       "\n",
       "    .dataframe thead th {\n",
       "        text-align: right;\n",
       "    }\n",
       "</style>\n",
       "<table border=\"1\" class=\"dataframe\">\n",
       "  <thead>\n",
       "    <tr style=\"text-align: right;\">\n",
       "      <th></th>\n",
       "      <th>PassengerId</th>\n",
       "      <th>Survived</th>\n",
       "      <th>Pclass</th>\n",
       "      <th>Sex</th>\n",
       "      <th>Age</th>\n",
       "      <th>SibSp</th>\n",
       "      <th>Parch</th>\n",
       "      <th>Fare</th>\n",
       "      <th>Cabin</th>\n",
       "      <th>Embarked</th>\n",
       "    </tr>\n",
       "  </thead>\n",
       "  <tbody>\n",
       "    <tr>\n",
       "      <th>count</th>\n",
       "      <td>891.000000</td>\n",
       "      <td>891.000000</td>\n",
       "      <td>891.000000</td>\n",
       "      <td>891.000000</td>\n",
       "      <td>891.000000</td>\n",
       "      <td>891.000000</td>\n",
       "      <td>891.000000</td>\n",
       "      <td>891.000000</td>\n",
       "      <td>891.000000</td>\n",
       "      <td>891.000000</td>\n",
       "    </tr>\n",
       "    <tr>\n",
       "      <th>mean</th>\n",
       "      <td>446.000000</td>\n",
       "      <td>0.383838</td>\n",
       "      <td>2.308642</td>\n",
       "      <td>0.647587</td>\n",
       "      <td>29.699118</td>\n",
       "      <td>0.523008</td>\n",
       "      <td>0.381594</td>\n",
       "      <td>32.204208</td>\n",
       "      <td>6.716049</td>\n",
       "      <td>1.536476</td>\n",
       "    </tr>\n",
       "    <tr>\n",
       "      <th>std</th>\n",
       "      <td>257.353842</td>\n",
       "      <td>0.486592</td>\n",
       "      <td>0.836071</td>\n",
       "      <td>0.477990</td>\n",
       "      <td>13.002015</td>\n",
       "      <td>1.102743</td>\n",
       "      <td>0.806057</td>\n",
       "      <td>49.693429</td>\n",
       "      <td>2.460739</td>\n",
       "      <td>0.791503</td>\n",
       "    </tr>\n",
       "    <tr>\n",
       "      <th>min</th>\n",
       "      <td>1.000000</td>\n",
       "      <td>0.000000</td>\n",
       "      <td>1.000000</td>\n",
       "      <td>0.000000</td>\n",
       "      <td>0.420000</td>\n",
       "      <td>0.000000</td>\n",
       "      <td>0.000000</td>\n",
       "      <td>0.000000</td>\n",
       "      <td>0.000000</td>\n",
       "      <td>0.000000</td>\n",
       "    </tr>\n",
       "    <tr>\n",
       "      <th>25%</th>\n",
       "      <td>223.500000</td>\n",
       "      <td>0.000000</td>\n",
       "      <td>2.000000</td>\n",
       "      <td>0.000000</td>\n",
       "      <td>22.000000</td>\n",
       "      <td>0.000000</td>\n",
       "      <td>0.000000</td>\n",
       "      <td>7.910400</td>\n",
       "      <td>8.000000</td>\n",
       "      <td>1.000000</td>\n",
       "    </tr>\n",
       "    <tr>\n",
       "      <th>50%</th>\n",
       "      <td>446.000000</td>\n",
       "      <td>0.000000</td>\n",
       "      <td>3.000000</td>\n",
       "      <td>1.000000</td>\n",
       "      <td>29.699118</td>\n",
       "      <td>0.000000</td>\n",
       "      <td>0.000000</td>\n",
       "      <td>14.454200</td>\n",
       "      <td>8.000000</td>\n",
       "      <td>2.000000</td>\n",
       "    </tr>\n",
       "    <tr>\n",
       "      <th>75%</th>\n",
       "      <td>668.500000</td>\n",
       "      <td>1.000000</td>\n",
       "      <td>3.000000</td>\n",
       "      <td>1.000000</td>\n",
       "      <td>35.000000</td>\n",
       "      <td>1.000000</td>\n",
       "      <td>0.000000</td>\n",
       "      <td>31.000000</td>\n",
       "      <td>8.000000</td>\n",
       "      <td>2.000000</td>\n",
       "    </tr>\n",
       "    <tr>\n",
       "      <th>max</th>\n",
       "      <td>891.000000</td>\n",
       "      <td>1.000000</td>\n",
       "      <td>3.000000</td>\n",
       "      <td>1.000000</td>\n",
       "      <td>80.000000</td>\n",
       "      <td>8.000000</td>\n",
       "      <td>6.000000</td>\n",
       "      <td>512.329200</td>\n",
       "      <td>8.000000</td>\n",
       "      <td>2.000000</td>\n",
       "    </tr>\n",
       "  </tbody>\n",
       "</table>\n",
       "</div>"
      ],
      "text/plain": [
       "       PassengerId    Survived      Pclass         Sex         Age  \\\n",
       "count   891.000000  891.000000  891.000000  891.000000  891.000000   \n",
       "mean    446.000000    0.383838    2.308642    0.647587   29.699118   \n",
       "std     257.353842    0.486592    0.836071    0.477990   13.002015   \n",
       "min       1.000000    0.000000    1.000000    0.000000    0.420000   \n",
       "25%     223.500000    0.000000    2.000000    0.000000   22.000000   \n",
       "50%     446.000000    0.000000    3.000000    1.000000   29.699118   \n",
       "75%     668.500000    1.000000    3.000000    1.000000   35.000000   \n",
       "max     891.000000    1.000000    3.000000    1.000000   80.000000   \n",
       "\n",
       "            SibSp       Parch        Fare       Cabin    Embarked  \n",
       "count  891.000000  891.000000  891.000000  891.000000  891.000000  \n",
       "mean     0.523008    0.381594   32.204208    6.716049    1.536476  \n",
       "std      1.102743    0.806057   49.693429    2.460739    0.791503  \n",
       "min      0.000000    0.000000    0.000000    0.000000    0.000000  \n",
       "25%      0.000000    0.000000    7.910400    8.000000    1.000000  \n",
       "50%      0.000000    0.000000   14.454200    8.000000    2.000000  \n",
       "75%      1.000000    0.000000   31.000000    8.000000    2.000000  \n",
       "max      8.000000    6.000000  512.329200    8.000000    2.000000  "
      ]
     },
     "execution_count": 15,
     "metadata": {},
     "output_type": "execute_result"
    }
   ],
   "source": [
    "# We will drop the name and ticket number column\n",
    "X = raw_data.drop(['Name', 'Ticket'], axis=1)\n",
    "\n",
    "# .describe() is used to get a statistical summary of the dataframe\n",
    "X.describe()"
   ]
  },
  {
   "cell_type": "markdown",
   "id": "a9371ec7",
   "metadata": {},
   "source": [
    "### Normalization"
   ]
  },
  {
   "cell_type": "markdown",
   "id": "27e21a1a",
   "metadata": {},
   "source": [
    "Normalization is a scaling technique method in which data points are shifted and rescaled so that they end up in a range of 0 to 1"
   ]
  },
  {
   "cell_type": "code",
   "execution_count": 16,
   "id": "774bf88f",
   "metadata": {},
   "outputs": [],
   "source": [
    "# Import MinMaxScaler from sklearn library\n",
    "from sklearn.preprocessing import MinMaxScaler\n",
    "\n",
    "# Create a normalization object\n",
    "scaler = MinMaxScaler()\n",
    "\n",
    "# This will scale the Fare and Age columns (We are not scaling categorical columns).\n",
    "normalized_data = scaler.fit_transform(X[['Fare', 'Age']])"
   ]
  },
  {
   "cell_type": "code",
   "execution_count": 17,
   "id": "5429aab4",
   "metadata": {},
   "outputs": [],
   "source": [
    "# Converting into Series (Since MinMaxScaler returns a numpy array)\n",
    "X['Fare'] = pd.Series(normalized_data[:,0])\n",
    "X['Age'] = pd.Series(normalized_data[:, 1])"
   ]
  },
  {
   "cell_type": "code",
   "execution_count": 18,
   "id": "2afd1097",
   "metadata": {},
   "outputs": [
    {
     "data": {
      "text/html": [
       "<div>\n",
       "<style scoped>\n",
       "    .dataframe tbody tr th:only-of-type {\n",
       "        vertical-align: middle;\n",
       "    }\n",
       "\n",
       "    .dataframe tbody tr th {\n",
       "        vertical-align: top;\n",
       "    }\n",
       "\n",
       "    .dataframe thead th {\n",
       "        text-align: right;\n",
       "    }\n",
       "</style>\n",
       "<table border=\"1\" class=\"dataframe\">\n",
       "  <thead>\n",
       "    <tr style=\"text-align: right;\">\n",
       "      <th></th>\n",
       "      <th>PassengerId</th>\n",
       "      <th>Survived</th>\n",
       "      <th>Pclass</th>\n",
       "      <th>Sex</th>\n",
       "      <th>Age</th>\n",
       "      <th>SibSp</th>\n",
       "      <th>Parch</th>\n",
       "      <th>Fare</th>\n",
       "      <th>Cabin</th>\n",
       "      <th>Embarked</th>\n",
       "    </tr>\n",
       "  </thead>\n",
       "  <tbody>\n",
       "    <tr>\n",
       "      <th>0</th>\n",
       "      <td>1</td>\n",
       "      <td>0</td>\n",
       "      <td>3</td>\n",
       "      <td>1</td>\n",
       "      <td>0.271174</td>\n",
       "      <td>1</td>\n",
       "      <td>0</td>\n",
       "      <td>0.014151</td>\n",
       "      <td>8</td>\n",
       "      <td>2</td>\n",
       "    </tr>\n",
       "    <tr>\n",
       "      <th>1</th>\n",
       "      <td>2</td>\n",
       "      <td>1</td>\n",
       "      <td>1</td>\n",
       "      <td>0</td>\n",
       "      <td>0.472229</td>\n",
       "      <td>1</td>\n",
       "      <td>0</td>\n",
       "      <td>0.139136</td>\n",
       "      <td>2</td>\n",
       "      <td>0</td>\n",
       "    </tr>\n",
       "    <tr>\n",
       "      <th>2</th>\n",
       "      <td>3</td>\n",
       "      <td>1</td>\n",
       "      <td>3</td>\n",
       "      <td>0</td>\n",
       "      <td>0.321438</td>\n",
       "      <td>0</td>\n",
       "      <td>0</td>\n",
       "      <td>0.015469</td>\n",
       "      <td>8</td>\n",
       "      <td>2</td>\n",
       "    </tr>\n",
       "    <tr>\n",
       "      <th>3</th>\n",
       "      <td>4</td>\n",
       "      <td>1</td>\n",
       "      <td>1</td>\n",
       "      <td>0</td>\n",
       "      <td>0.434531</td>\n",
       "      <td>1</td>\n",
       "      <td>0</td>\n",
       "      <td>0.103644</td>\n",
       "      <td>2</td>\n",
       "      <td>2</td>\n",
       "    </tr>\n",
       "    <tr>\n",
       "      <th>4</th>\n",
       "      <td>5</td>\n",
       "      <td>0</td>\n",
       "      <td>3</td>\n",
       "      <td>1</td>\n",
       "      <td>0.434531</td>\n",
       "      <td>0</td>\n",
       "      <td>0</td>\n",
       "      <td>0.015713</td>\n",
       "      <td>8</td>\n",
       "      <td>2</td>\n",
       "    </tr>\n",
       "  </tbody>\n",
       "</table>\n",
       "</div>"
      ],
      "text/plain": [
       "   PassengerId  Survived  Pclass  Sex       Age  SibSp  Parch      Fare  \\\n",
       "0            1         0       3    1  0.271174      1      0  0.014151   \n",
       "1            2         1       1    0  0.472229      1      0  0.139136   \n",
       "2            3         1       3    0  0.321438      0      0  0.015469   \n",
       "3            4         1       1    0  0.434531      1      0  0.103644   \n",
       "4            5         0       3    1  0.434531      0      0  0.015713   \n",
       "\n",
       "   Cabin  Embarked  \n",
       "0      8         2  \n",
       "1      2         0  \n",
       "2      8         2  \n",
       "3      2         2  \n",
       "4      8         2  "
      ]
     },
     "execution_count": 18,
     "metadata": {},
     "output_type": "execute_result"
    }
   ],
   "source": [
    "X.head()"
   ]
  },
  {
   "cell_type": "markdown",
   "id": "875890ca",
   "metadata": {},
   "source": [
    "Thus it is observed that Age and Fare have been Normalized. "
   ]
  }
 ],
 "metadata": {
  "kernelspec": {
   "display_name": "Python 3",
   "language": "python",
   "name": "python3"
  },
  "language_info": {
   "codemirror_mode": {
    "name": "ipython",
    "version": 3
   },
   "file_extension": ".py",
   "mimetype": "text/x-python",
   "name": "python",
   "nbconvert_exporter": "python",
   "pygments_lexer": "ipython3",
   "version": "3.8.8"
  }
 },
 "nbformat": 4,
 "nbformat_minor": 5
}

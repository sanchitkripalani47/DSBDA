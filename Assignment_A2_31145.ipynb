{
 "cells": [
  {
   "cell_type": "markdown",
   "id": "ef4af8b0",
   "metadata": {},
   "source": [
    "## Name: Sanchit Kripalani <br> Batch: M1 <br> Roll No: 31145"
   ]
  },
  {
   "cell_type": "markdown",
   "id": "74622192",
   "metadata": {},
   "source": [
    "### Problem Statement\n",
    "\n",
    "Create an \"Academic performance\" dataset of students and perform the following operations using Python.\n",
    "\n",
    "1. Scan all variables for missing values and inconsistencies. If there are missing values and/or inconsistencies, use any of the suitable techniques to deal with them.\n",
    "\n",
    "2. Scan all numeric variables for outliers. If there are outliers, use any of the suitable techniques to deal with them.\n",
    "\n",
    "3. Apply data transformations on at least one of the variables. The purpose of this transformation should be one of the following reasons: to change the scale for better understanding of the variable, to convert a non-linear relation into a linear one, or to decrease the skewness and convert the distribution into a normal distribution."
   ]
  },
  {
   "cell_type": "code",
   "execution_count": 1,
   "id": "777bd81f",
   "metadata": {},
   "outputs": [],
   "source": [
    "# Import Necessary libraries\n",
    "import numpy as np\n",
    "import pandas as pd\n",
    "\n",
    "import seaborn as sns\n",
    "import matplotlib.pyplot as plt\n",
    "\n",
    "%matplotlib inline"
   ]
  },
  {
   "cell_type": "code",
   "execution_count": 2,
   "id": "b3ad7fc5",
   "metadata": {},
   "outputs": [
    {
     "data": {
      "text/html": [
       "<div>\n",
       "<style scoped>\n",
       "    .dataframe tbody tr th:only-of-type {\n",
       "        vertical-align: middle;\n",
       "    }\n",
       "\n",
       "    .dataframe tbody tr th {\n",
       "        vertical-align: top;\n",
       "    }\n",
       "\n",
       "    .dataframe thead th {\n",
       "        text-align: right;\n",
       "    }\n",
       "</style>\n",
       "<table border=\"1\" class=\"dataframe\">\n",
       "  <thead>\n",
       "    <tr style=\"text-align: right;\">\n",
       "      <th></th>\n",
       "      <th>Sr. No</th>\n",
       "      <th>SEAT NO</th>\n",
       "      <th>DSA</th>\n",
       "      <th>EM3</th>\n",
       "      <th>MP</th>\n",
       "      <th>PPL</th>\n",
       "      <th>SE</th>\n",
       "    </tr>\n",
       "  </thead>\n",
       "  <tbody>\n",
       "    <tr>\n",
       "      <th>0</th>\n",
       "      <td>1</td>\n",
       "      <td>S190054201</td>\n",
       "      <td>28.0</td>\n",
       "      <td>24.0</td>\n",
       "      <td>26.0</td>\n",
       "      <td>21.0</td>\n",
       "      <td>23.0</td>\n",
       "    </tr>\n",
       "    <tr>\n",
       "      <th>1</th>\n",
       "      <td>2</td>\n",
       "      <td>S190054202</td>\n",
       "      <td>30.0</td>\n",
       "      <td>28.0</td>\n",
       "      <td>29.0</td>\n",
       "      <td>26.0</td>\n",
       "      <td>26.0</td>\n",
       "    </tr>\n",
       "    <tr>\n",
       "      <th>2</th>\n",
       "      <td>3</td>\n",
       "      <td>S190054203</td>\n",
       "      <td>29.0</td>\n",
       "      <td>21.0</td>\n",
       "      <td>22.0</td>\n",
       "      <td>28.0</td>\n",
       "      <td>27.0</td>\n",
       "    </tr>\n",
       "    <tr>\n",
       "      <th>3</th>\n",
       "      <td>4</td>\n",
       "      <td>S190054204</td>\n",
       "      <td>30.0</td>\n",
       "      <td>29.0</td>\n",
       "      <td>28.0</td>\n",
       "      <td>30.0</td>\n",
       "      <td>23.0</td>\n",
       "    </tr>\n",
       "    <tr>\n",
       "      <th>4</th>\n",
       "      <td>5</td>\n",
       "      <td>S190054205</td>\n",
       "      <td>30.0</td>\n",
       "      <td>28.0</td>\n",
       "      <td>23.0</td>\n",
       "      <td>23.0</td>\n",
       "      <td>26.0</td>\n",
       "    </tr>\n",
       "  </tbody>\n",
       "</table>\n",
       "</div>"
      ],
      "text/plain": [
       "   Sr. No     SEAT NO   DSA   EM3    MP   PPL    SE\n",
       "0       1  S190054201  28.0  24.0  26.0  21.0  23.0\n",
       "1       2  S190054202  30.0  28.0  29.0  26.0  26.0\n",
       "2       3  S190054203  29.0  21.0  22.0  28.0  27.0\n",
       "3       4  S190054204  30.0  29.0  28.0  30.0  23.0\n",
       "4       5  S190054205  30.0  28.0  23.0  23.0  26.0"
      ]
     },
     "execution_count": 2,
     "metadata": {},
     "output_type": "execute_result"
    }
   ],
   "source": [
    "# Read the dataset\n",
    "raw_data = pd.read_csv('Marks_Insem.csv')\n",
    "\n",
    "raw_data.head()"
   ]
  },
  {
   "cell_type": "markdown",
   "id": "4a150e4a",
   "metadata": {},
   "source": [
    "### Data Preprocessing"
   ]
  },
  {
   "cell_type": "code",
   "execution_count": 3,
   "id": "e24b0add",
   "metadata": {},
   "outputs": [
    {
     "name": "stdout",
     "output_type": "stream",
     "text": [
      "<class 'pandas.core.frame.DataFrame'>\n",
      "RangeIndex: 332 entries, 0 to 331\n",
      "Data columns (total 7 columns):\n",
      " #   Column   Non-Null Count  Dtype  \n",
      "---  ------   --------------  -----  \n",
      " 0   Sr. No   332 non-null    int64  \n",
      " 1   SEAT NO  332 non-null    object \n",
      " 2   DSA      325 non-null    float64\n",
      " 3   EM3      326 non-null    float64\n",
      " 4   MP       328 non-null    float64\n",
      " 5   PPL      327 non-null    float64\n",
      " 6   SE       326 non-null    float64\n",
      "dtypes: float64(5), int64(1), object(1)\n",
      "memory usage: 18.3+ KB\n"
     ]
    }
   ],
   "source": [
    "# Using .info() to get detailed information about raw_data\n",
    "raw_data.info()"
   ]
  },
  {
   "cell_type": "code",
   "execution_count": 4,
   "id": "c369440f",
   "metadata": {},
   "outputs": [
    {
     "data": {
      "text/plain": [
       "Sr. No     0\n",
       "SEAT NO    0\n",
       "DSA        7\n",
       "EM3        6\n",
       "MP         4\n",
       "PPL        5\n",
       "SE         6\n",
       "dtype: int64"
      ]
     },
     "execution_count": 4,
     "metadata": {},
     "output_type": "execute_result"
    }
   ],
   "source": [
    "# Checking the number of null values\n",
    "raw_data.isna().sum()"
   ]
  },
  {
   "cell_type": "markdown",
   "id": "8297109b",
   "metadata": {},
   "source": [
    "It is observed that there are missing values in the dataset for all the subjects. We will replace these null values with the mean values of the subjects."
   ]
  },
  {
   "cell_type": "code",
   "execution_count": 5,
   "id": "396985d2",
   "metadata": {},
   "outputs": [
    {
     "name": "stdout",
     "output_type": "stream",
     "text": [
      "Mean marks in DSA is:  28.396923076923077\n",
      "Mean marks in EM3 is:  24.595092024539877\n",
      "Mean marks in MP is:  25.103658536585368\n",
      "Mean marks in PPL is:  25.152905198776757\n",
      "Mean marks in SE is:  27.300613496932517\n"
     ]
    }
   ],
   "source": [
    "# Replace null values with the mean of the data\n",
    "dsa_mean = raw_data['DSA'].mean()\n",
    "em3_mean = raw_data['EM3'].mean()\n",
    "mp_mean = raw_data['MP'].mean()\n",
    "ppl_mean = raw_data['PPL'].mean()\n",
    "se_mean = raw_data['SE'].mean()\n",
    "\n",
    "print(\"Mean marks in DSA is: \", dsa_mean)\n",
    "print(\"Mean marks in EM3 is: \", em3_mean)\n",
    "print(\"Mean marks in MP is: \", mp_mean)\n",
    "print(\"Mean marks in PPL is: \", ppl_mean)\n",
    "print(\"Mean marks in SE is: \", se_mean)\n",
    "\n",
    "\n",
    "raw_data['DSA'].fillna(dsa_mean, inplace=True)\n",
    "raw_data['EM3'].fillna(em3_mean, inplace=True)\n",
    "raw_data['MP'].fillna(mp_mean, inplace=True)\n",
    "raw_data['PPL'].fillna(ppl_mean, inplace=True)\n",
    "raw_data['SE'].fillna(se_mean, inplace=True)"
   ]
  },
  {
   "cell_type": "code",
   "execution_count": 6,
   "id": "71915cf5",
   "metadata": {},
   "outputs": [
    {
     "data": {
      "text/plain": [
       "Sr. No     0\n",
       "SEAT NO    0\n",
       "DSA        0\n",
       "EM3        0\n",
       "MP         0\n",
       "PPL        0\n",
       "SE         0\n",
       "dtype: int64"
      ]
     },
     "execution_count": 6,
     "metadata": {},
     "output_type": "execute_result"
    }
   ],
   "source": [
    "# Check the number of null values again\n",
    "raw_data.isna().sum()"
   ]
  },
  {
   "cell_type": "code",
   "execution_count": 7,
   "id": "4c11bb9c",
   "metadata": {},
   "outputs": [
    {
     "data": {
      "text/html": [
       "<div>\n",
       "<style scoped>\n",
       "    .dataframe tbody tr th:only-of-type {\n",
       "        vertical-align: middle;\n",
       "    }\n",
       "\n",
       "    .dataframe tbody tr th {\n",
       "        vertical-align: top;\n",
       "    }\n",
       "\n",
       "    .dataframe thead th {\n",
       "        text-align: right;\n",
       "    }\n",
       "</style>\n",
       "<table border=\"1\" class=\"dataframe\">\n",
       "  <thead>\n",
       "    <tr style=\"text-align: right;\">\n",
       "      <th></th>\n",
       "      <th>Sr. No</th>\n",
       "      <th>DSA</th>\n",
       "      <th>EM3</th>\n",
       "      <th>MP</th>\n",
       "      <th>PPL</th>\n",
       "      <th>SE</th>\n",
       "    </tr>\n",
       "  </thead>\n",
       "  <tbody>\n",
       "    <tr>\n",
       "      <th>count</th>\n",
       "      <td>332.000000</td>\n",
       "      <td>332.000000</td>\n",
       "      <td>332.000000</td>\n",
       "      <td>332.000000</td>\n",
       "      <td>332.000000</td>\n",
       "      <td>332.000000</td>\n",
       "    </tr>\n",
       "    <tr>\n",
       "      <th>mean</th>\n",
       "      <td>166.500000</td>\n",
       "      <td>28.396923</td>\n",
       "      <td>24.595092</td>\n",
       "      <td>25.103659</td>\n",
       "      <td>25.152905</td>\n",
       "      <td>27.300613</td>\n",
       "    </tr>\n",
       "    <tr>\n",
       "      <th>std</th>\n",
       "      <td>95.984374</td>\n",
       "      <td>2.663277</td>\n",
       "      <td>4.147052</td>\n",
       "      <td>3.906952</td>\n",
       "      <td>3.163402</td>\n",
       "      <td>3.842260</td>\n",
       "    </tr>\n",
       "    <tr>\n",
       "      <th>min</th>\n",
       "      <td>1.000000</td>\n",
       "      <td>13.000000</td>\n",
       "      <td>8.000000</td>\n",
       "      <td>14.000000</td>\n",
       "      <td>20.000000</td>\n",
       "      <td>15.000000</td>\n",
       "    </tr>\n",
       "    <tr>\n",
       "      <th>25%</th>\n",
       "      <td>83.750000</td>\n",
       "      <td>28.000000</td>\n",
       "      <td>23.000000</td>\n",
       "      <td>22.000000</td>\n",
       "      <td>22.000000</td>\n",
       "      <td>26.000000</td>\n",
       "    </tr>\n",
       "    <tr>\n",
       "      <th>50%</th>\n",
       "      <td>166.500000</td>\n",
       "      <td>29.500000</td>\n",
       "      <td>26.000000</td>\n",
       "      <td>25.103659</td>\n",
       "      <td>25.000000</td>\n",
       "      <td>29.000000</td>\n",
       "    </tr>\n",
       "    <tr>\n",
       "      <th>75%</th>\n",
       "      <td>249.250000</td>\n",
       "      <td>30.000000</td>\n",
       "      <td>28.000000</td>\n",
       "      <td>29.000000</td>\n",
       "      <td>28.000000</td>\n",
       "      <td>30.000000</td>\n",
       "    </tr>\n",
       "    <tr>\n",
       "      <th>max</th>\n",
       "      <td>332.000000</td>\n",
       "      <td>30.000000</td>\n",
       "      <td>30.000000</td>\n",
       "      <td>30.000000</td>\n",
       "      <td>30.000000</td>\n",
       "      <td>30.000000</td>\n",
       "    </tr>\n",
       "  </tbody>\n",
       "</table>\n",
       "</div>"
      ],
      "text/plain": [
       "           Sr. No         DSA         EM3          MP         PPL          SE\n",
       "count  332.000000  332.000000  332.000000  332.000000  332.000000  332.000000\n",
       "mean   166.500000   28.396923   24.595092   25.103659   25.152905   27.300613\n",
       "std     95.984374    2.663277    4.147052    3.906952    3.163402    3.842260\n",
       "min      1.000000   13.000000    8.000000   14.000000   20.000000   15.000000\n",
       "25%     83.750000   28.000000   23.000000   22.000000   22.000000   26.000000\n",
       "50%    166.500000   29.500000   26.000000   25.103659   25.000000   29.000000\n",
       "75%    249.250000   30.000000   28.000000   29.000000   28.000000   30.000000\n",
       "max    332.000000   30.000000   30.000000   30.000000   30.000000   30.000000"
      ]
     },
     "execution_count": 7,
     "metadata": {},
     "output_type": "execute_result"
    }
   ],
   "source": [
    "# Use .describe() method will be used to get the description of the data\n",
    "raw_data.describe()"
   ]
  },
  {
   "cell_type": "markdown",
   "id": "2c307da6",
   "metadata": {},
   "source": [
    "**Observations**\n",
    "\n",
    "- All the null values have been removed from the dataset.\n",
    "\n",
    "\n",
    "- The minimum value of EM3 is 8 while that in ppl is 20. These values may/may not be removed from the data depending on whether they are within the upper and lower bounds.\n"
   ]
  },
  {
   "cell_type": "markdown",
   "id": "17bbda99",
   "metadata": {},
   "source": [
    "### Plotting Graphs to Find Outliers"
   ]
  },
  {
   "cell_type": "code",
   "execution_count": 8,
   "id": "b234bd94",
   "metadata": {},
   "outputs": [],
   "source": [
    "# Function to plot a histogram\n",
    "def plotHisto(dataframe, column):\n",
    "    \n",
    "    # Define the plot size\n",
    "    plt.figure(figsize=(10, 5))\n",
    "    \n",
    "    # Plotting the histogram\n",
    "    plt.subplot(1,2,1)\n",
    "    plt.hist(dataframe[column])\n",
    "    plt.title(\"Distribution of Marks in {}\".format(column))\n",
    "    \n",
    "    # Plotting the boxplot\n",
    "    plt.subplot(1,2,2)\n",
    "    plt.boxplot(dataframe[column])\n",
    "    plt.title(\"Box Plot of Marks in {}\".format(column))\n",
    "    \n",
    "    plt.tight_layout()"
   ]
  },
  {
   "cell_type": "code",
   "execution_count": 9,
   "id": "47216975",
   "metadata": {},
   "outputs": [
    {
     "data": {
      "image/png": "[encoded data removed]",
      "text/plain": [
       "<Figure size 720x360 with 2 Axes>"
      ]
     },
     "metadata": {
      "needs_background": "light"
     },
     "output_type": "display_data"
    },
    {
     "data": {
      "image/png": "[encoded data removed]",
      "text/plain": [
       "<Figure size 720x360 with 2 Axes>"
      ]
     },
     "metadata": {
      "needs_background": "light"
     },
     "output_type": "display_data"
    }
   ],
   "source": [
    "# Plot the histogram for EM3 and PPL\n",
    "\n",
    "plotHisto(raw_data, 'EM3'), plotHisto(raw_data, 'PPL')\n",
    "\n",
    "plt.show()"
   ]
  },
  {
   "cell_type": "markdown",
   "id": "3ceea154",
   "metadata": {},
   "source": [
    "### Finding Outliers"
   ]
  },
  {
   "cell_type": "markdown",
   "id": "bf54b9b6",
   "metadata": {},
   "source": [
    "We will demonstrate how outliers are discarded using marks of 2 subjects, i.e EM3 and PPL"
   ]
  },
  {
   "cell_type": "code",
   "execution_count": 10,
   "id": "500a471f",
   "metadata": {},
   "outputs": [
    {
     "data": {
      "text/plain": [
       "(23.0, 28.0)"
      ]
     },
     "execution_count": 10,
     "metadata": {},
     "output_type": "execute_result"
    }
   ],
   "source": [
    "# We will be finding outliers in EM3 subject\n",
    "Q1 = raw_data['EM3'].quantile(0.25)\n",
    "Q3 = raw_data['EM3'].quantile(0.75)\n",
    "\n",
    "Q1, Q3"
   ]
  },
  {
   "cell_type": "code",
   "execution_count": 11,
   "id": "7b54b746",
   "metadata": {},
   "outputs": [
    {
     "data": {
      "text/plain": [
       "5.0"
      ]
     },
     "execution_count": 11,
     "metadata": {},
     "output_type": "execute_result"
    }
   ],
   "source": [
    "# Finding Inter Quartile Range\n",
    "IQR = Q3 - Q1\n",
    "\n",
    "IQR"
   ]
  },
  {
   "cell_type": "code",
   "execution_count": 12,
   "id": "404507a5",
   "metadata": {},
   "outputs": [
    {
     "data": {
      "text/plain": [
       "(15.5, 35.5)"
      ]
     },
     "execution_count": 12,
     "metadata": {},
     "output_type": "execute_result"
    }
   ],
   "source": [
    "# Finding upper and lower bounds of Inter Quartile Range\n",
    "lower_bound = Q1 - IQR*1.5\n",
    "upper_bound = Q3 + IQR*1.5\n",
    "\n",
    "lower_bound, upper_bound"
   ]
  },
  {
   "cell_type": "markdown",
   "id": "db03a88d",
   "metadata": {},
   "source": [
    "These upper and lower bounds will be used to discard outliers. All the value within the lower and upper bounds will be preserved and the rest will be removed."
   ]
  },
  {
   "cell_type": "code",
   "execution_count": 13,
   "id": "5393e233",
   "metadata": {},
   "outputs": [
    {
     "data": {
      "text/html": [
       "<div>\n",
       "<style scoped>\n",
       "    .dataframe tbody tr th:only-of-type {\n",
       "        vertical-align: middle;\n",
       "    }\n",
       "\n",
       "    .dataframe tbody tr th {\n",
       "        vertical-align: top;\n",
       "    }\n",
       "\n",
       "    .dataframe thead th {\n",
       "        text-align: right;\n",
       "    }\n",
       "</style>\n",
       "<table border=\"1\" class=\"dataframe\">\n",
       "  <thead>\n",
       "    <tr style=\"text-align: right;\">\n",
       "      <th></th>\n",
       "      <th>Sr. No</th>\n",
       "      <th>DSA</th>\n",
       "      <th>EM3</th>\n",
       "      <th>MP</th>\n",
       "      <th>PPL</th>\n",
       "      <th>SE</th>\n",
       "    </tr>\n",
       "  </thead>\n",
       "  <tbody>\n",
       "    <tr>\n",
       "      <th>count</th>\n",
       "      <td>13.000000</td>\n",
       "      <td>13.000000</td>\n",
       "      <td>13.000000</td>\n",
       "      <td>13.000000</td>\n",
       "      <td>13.000000</td>\n",
       "      <td>13.000000</td>\n",
       "    </tr>\n",
       "    <tr>\n",
       "      <th>mean</th>\n",
       "      <td>187.384615</td>\n",
       "      <td>22.923077</td>\n",
       "      <td>12.923077</td>\n",
       "      <td>23.692308</td>\n",
       "      <td>24.384615</td>\n",
       "      <td>26.461538</td>\n",
       "    </tr>\n",
       "    <tr>\n",
       "      <th>std</th>\n",
       "      <td>92.031280</td>\n",
       "      <td>5.438467</td>\n",
       "      <td>2.361551</td>\n",
       "      <td>4.888500</td>\n",
       "      <td>3.905946</td>\n",
       "      <td>3.306947</td>\n",
       "    </tr>\n",
       "    <tr>\n",
       "      <th>min</th>\n",
       "      <td>69.000000</td>\n",
       "      <td>13.000000</td>\n",
       "      <td>8.000000</td>\n",
       "      <td>14.000000</td>\n",
       "      <td>20.000000</td>\n",
       "      <td>21.000000</td>\n",
       "    </tr>\n",
       "    <tr>\n",
       "      <th>25%</th>\n",
       "      <td>127.000000</td>\n",
       "      <td>20.000000</td>\n",
       "      <td>11.000000</td>\n",
       "      <td>22.000000</td>\n",
       "      <td>21.000000</td>\n",
       "      <td>24.000000</td>\n",
       "    </tr>\n",
       "    <tr>\n",
       "      <th>50%</th>\n",
       "      <td>154.000000</td>\n",
       "      <td>24.000000</td>\n",
       "      <td>14.000000</td>\n",
       "      <td>23.000000</td>\n",
       "      <td>25.000000</td>\n",
       "      <td>27.000000</td>\n",
       "    </tr>\n",
       "    <tr>\n",
       "      <th>75%</th>\n",
       "      <td>297.000000</td>\n",
       "      <td>27.000000</td>\n",
       "      <td>15.000000</td>\n",
       "      <td>27.000000</td>\n",
       "      <td>27.000000</td>\n",
       "      <td>30.000000</td>\n",
       "    </tr>\n",
       "    <tr>\n",
       "      <th>max</th>\n",
       "      <td>320.000000</td>\n",
       "      <td>30.000000</td>\n",
       "      <td>15.000000</td>\n",
       "      <td>30.000000</td>\n",
       "      <td>30.000000</td>\n",
       "      <td>30.000000</td>\n",
       "    </tr>\n",
       "  </tbody>\n",
       "</table>\n",
       "</div>"
      ],
      "text/plain": [
       "           Sr. No        DSA        EM3         MP        PPL         SE\n",
       "count   13.000000  13.000000  13.000000  13.000000  13.000000  13.000000\n",
       "mean   187.384615  22.923077  12.923077  23.692308  24.384615  26.461538\n",
       "std     92.031280   5.438467   2.361551   4.888500   3.905946   3.306947\n",
       "min     69.000000  13.000000   8.000000  14.000000  20.000000  21.000000\n",
       "25%    127.000000  20.000000  11.000000  22.000000  21.000000  24.000000\n",
       "50%    154.000000  24.000000  14.000000  23.000000  25.000000  27.000000\n",
       "75%    297.000000  27.000000  15.000000  27.000000  27.000000  30.000000\n",
       "max    320.000000  30.000000  15.000000  30.000000  30.000000  30.000000"
      ]
     },
     "execution_count": 13,
     "metadata": {},
     "output_type": "execute_result"
    }
   ],
   "source": [
    "# Display the Outlier values using upper and lower bounds\n",
    "data_outliers = raw_data[(raw_data['EM3'] > upper_bound) | (raw_data['EM3'] < lower_bound)]\n",
    "\n",
    "data_outliers.describe()"
   ]
  },
  {
   "cell_type": "code",
   "execution_count": 14,
   "id": "96d07188",
   "metadata": {},
   "outputs": [
    {
     "data": {
      "text/html": [
       "<div>\n",
       "<style scoped>\n",
       "    .dataframe tbody tr th:only-of-type {\n",
       "        vertical-align: middle;\n",
       "    }\n",
       "\n",
       "    .dataframe tbody tr th {\n",
       "        vertical-align: top;\n",
       "    }\n",
       "\n",
       "    .dataframe thead th {\n",
       "        text-align: right;\n",
       "    }\n",
       "</style>\n",
       "<table border=\"1\" class=\"dataframe\">\n",
       "  <thead>\n",
       "    <tr style=\"text-align: right;\">\n",
       "      <th></th>\n",
       "      <th>Sr. No</th>\n",
       "      <th>DSA</th>\n",
       "      <th>EM3</th>\n",
       "      <th>MP</th>\n",
       "      <th>PPL</th>\n",
       "      <th>SE</th>\n",
       "    </tr>\n",
       "  </thead>\n",
       "  <tbody>\n",
       "    <tr>\n",
       "      <th>count</th>\n",
       "      <td>319.000000</td>\n",
       "      <td>319.000000</td>\n",
       "      <td>319.000000</td>\n",
       "      <td>319.000000</td>\n",
       "      <td>319.000000</td>\n",
       "      <td>319.000000</td>\n",
       "    </tr>\n",
       "    <tr>\n",
       "      <th>mean</th>\n",
       "      <td>165.648903</td>\n",
       "      <td>28.619995</td>\n",
       "      <td>25.070754</td>\n",
       "      <td>25.161174</td>\n",
       "      <td>25.184215</td>\n",
       "      <td>27.334808</td>\n",
       "    </tr>\n",
       "    <tr>\n",
       "      <th>std</th>\n",
       "      <td>96.184517</td>\n",
       "      <td>2.234296</td>\n",
       "      <td>3.448811</td>\n",
       "      <td>3.860278</td>\n",
       "      <td>3.132951</td>\n",
       "      <td>3.863140</td>\n",
       "    </tr>\n",
       "    <tr>\n",
       "      <th>min</th>\n",
       "      <td>1.000000</td>\n",
       "      <td>16.000000</td>\n",
       "      <td>16.000000</td>\n",
       "      <td>14.000000</td>\n",
       "      <td>20.000000</td>\n",
       "      <td>15.000000</td>\n",
       "    </tr>\n",
       "    <tr>\n",
       "      <th>25%</th>\n",
       "      <td>82.500000</td>\n",
       "      <td>28.000000</td>\n",
       "      <td>23.000000</td>\n",
       "      <td>22.000000</td>\n",
       "      <td>22.000000</td>\n",
       "      <td>26.000000</td>\n",
       "    </tr>\n",
       "    <tr>\n",
       "      <th>50%</th>\n",
       "      <td>167.000000</td>\n",
       "      <td>30.000000</td>\n",
       "      <td>26.000000</td>\n",
       "      <td>25.103659</td>\n",
       "      <td>25.000000</td>\n",
       "      <td>30.000000</td>\n",
       "    </tr>\n",
       "    <tr>\n",
       "      <th>75%</th>\n",
       "      <td>248.500000</td>\n",
       "      <td>30.000000</td>\n",
       "      <td>28.000000</td>\n",
       "      <td>29.000000</td>\n",
       "      <td>28.000000</td>\n",
       "      <td>30.000000</td>\n",
       "    </tr>\n",
       "    <tr>\n",
       "      <th>max</th>\n",
       "      <td>332.000000</td>\n",
       "      <td>30.000000</td>\n",
       "      <td>30.000000</td>\n",
       "      <td>30.000000</td>\n",
       "      <td>30.000000</td>\n",
       "      <td>30.000000</td>\n",
       "    </tr>\n",
       "  </tbody>\n",
       "</table>\n",
       "</div>"
      ],
      "text/plain": [
       "           Sr. No         DSA         EM3          MP         PPL          SE\n",
       "count  319.000000  319.000000  319.000000  319.000000  319.000000  319.000000\n",
       "mean   165.648903   28.619995   25.070754   25.161174   25.184215   27.334808\n",
       "std     96.184517    2.234296    3.448811    3.860278    3.132951    3.863140\n",
       "min      1.000000   16.000000   16.000000   14.000000   20.000000   15.000000\n",
       "25%     82.500000   28.000000   23.000000   22.000000   22.000000   26.000000\n",
       "50%    167.000000   30.000000   26.000000   25.103659   25.000000   30.000000\n",
       "75%    248.500000   30.000000   28.000000   29.000000   28.000000   30.000000\n",
       "max    332.000000   30.000000   30.000000   30.000000   30.000000   30.000000"
      ]
     },
     "execution_count": 14,
     "metadata": {},
     "output_type": "execute_result"
    }
   ],
   "source": [
    "# Display the data with no outliers \n",
    "data_no_outliers = raw_data[(raw_data['EM3'] > lower_bound) & (raw_data['EM3'] < upper_bound)]\n",
    "\n",
    "data_no_outliers.describe()"
   ]
  },
  {
   "cell_type": "code",
   "execution_count": 15,
   "id": "43dac714",
   "metadata": {},
   "outputs": [
    {
     "data": {
      "text/plain": [
       "(22.0, 28.0)"
      ]
     },
     "execution_count": 15,
     "metadata": {},
     "output_type": "execute_result"
    }
   ],
   "source": [
    "# Similarly, we will be finding outliers in PPL subject\n",
    "Q1 = data_no_outliers['PPL'].quantile(0.25)\n",
    "Q3 = data_no_outliers['PPL'].quantile(0.75)\n",
    "\n",
    "Q1, Q3"
   ]
  },
  {
   "cell_type": "code",
   "execution_count": 16,
   "id": "c4fab420",
   "metadata": {},
   "outputs": [
    {
     "data": {
      "text/plain": [
       "6.0"
      ]
     },
     "execution_count": 16,
     "metadata": {},
     "output_type": "execute_result"
    }
   ],
   "source": [
    "# Finding Inter Quartile Range\n",
    "IQR = Q3 - Q1\n",
    "\n",
    "IQR"
   ]
  },
  {
   "cell_type": "code",
   "execution_count": 17,
   "id": "f18b69f2",
   "metadata": {},
   "outputs": [
    {
     "data": {
      "text/plain": [
       "(13.0, 37.0)"
      ]
     },
     "execution_count": 17,
     "metadata": {},
     "output_type": "execute_result"
    }
   ],
   "source": [
    "# Finding upper and lower bounds of Inter Quartile Range\n",
    "lower_bound = Q1 - IQR*1.5\n",
    "upper_bound = Q3 + IQR*1.5\n",
    "\n",
    "lower_bound, upper_bound"
   ]
  },
  {
   "cell_type": "code",
   "execution_count": 18,
   "id": "5fcda05f",
   "metadata": {},
   "outputs": [
    {
     "data": {
      "text/html": [
       "<div>\n",
       "<style scoped>\n",
       "    .dataframe tbody tr th:only-of-type {\n",
       "        vertical-align: middle;\n",
       "    }\n",
       "\n",
       "    .dataframe tbody tr th {\n",
       "        vertical-align: top;\n",
       "    }\n",
       "\n",
       "    .dataframe thead th {\n",
       "        text-align: right;\n",
       "    }\n",
       "</style>\n",
       "<table border=\"1\" class=\"dataframe\">\n",
       "  <thead>\n",
       "    <tr style=\"text-align: right;\">\n",
       "      <th></th>\n",
       "      <th>Sr. No</th>\n",
       "      <th>DSA</th>\n",
       "      <th>EM3</th>\n",
       "      <th>MP</th>\n",
       "      <th>PPL</th>\n",
       "      <th>SE</th>\n",
       "    </tr>\n",
       "  </thead>\n",
       "  <tbody>\n",
       "    <tr>\n",
       "      <th>count</th>\n",
       "      <td>319.000000</td>\n",
       "      <td>319.000000</td>\n",
       "      <td>319.000000</td>\n",
       "      <td>319.000000</td>\n",
       "      <td>319.000000</td>\n",
       "      <td>319.000000</td>\n",
       "    </tr>\n",
       "    <tr>\n",
       "      <th>mean</th>\n",
       "      <td>165.648903</td>\n",
       "      <td>28.619995</td>\n",
       "      <td>25.070754</td>\n",
       "      <td>25.161174</td>\n",
       "      <td>25.184215</td>\n",
       "      <td>27.334808</td>\n",
       "    </tr>\n",
       "    <tr>\n",
       "      <th>std</th>\n",
       "      <td>96.184517</td>\n",
       "      <td>2.234296</td>\n",
       "      <td>3.448811</td>\n",
       "      <td>3.860278</td>\n",
       "      <td>3.132951</td>\n",
       "      <td>3.863140</td>\n",
       "    </tr>\n",
       "    <tr>\n",
       "      <th>min</th>\n",
       "      <td>1.000000</td>\n",
       "      <td>16.000000</td>\n",
       "      <td>16.000000</td>\n",
       "      <td>14.000000</td>\n",
       "      <td>20.000000</td>\n",
       "      <td>15.000000</td>\n",
       "    </tr>\n",
       "    <tr>\n",
       "      <th>25%</th>\n",
       "      <td>82.500000</td>\n",
       "      <td>28.000000</td>\n",
       "      <td>23.000000</td>\n",
       "      <td>22.000000</td>\n",
       "      <td>22.000000</td>\n",
       "      <td>26.000000</td>\n",
       "    </tr>\n",
       "    <tr>\n",
       "      <th>50%</th>\n",
       "      <td>167.000000</td>\n",
       "      <td>30.000000</td>\n",
       "      <td>26.000000</td>\n",
       "      <td>25.103659</td>\n",
       "      <td>25.000000</td>\n",
       "      <td>30.000000</td>\n",
       "    </tr>\n",
       "    <tr>\n",
       "      <th>75%</th>\n",
       "      <td>248.500000</td>\n",
       "      <td>30.000000</td>\n",
       "      <td>28.000000</td>\n",
       "      <td>29.000000</td>\n",
       "      <td>28.000000</td>\n",
       "      <td>30.000000</td>\n",
       "    </tr>\n",
       "    <tr>\n",
       "      <th>max</th>\n",
       "      <td>332.000000</td>\n",
       "      <td>30.000000</td>\n",
       "      <td>30.000000</td>\n",
       "      <td>30.000000</td>\n",
       "      <td>30.000000</td>\n",
       "      <td>30.000000</td>\n",
       "    </tr>\n",
       "  </tbody>\n",
       "</table>\n",
       "</div>"
      ],
      "text/plain": [
       "           Sr. No         DSA         EM3          MP         PPL          SE\n",
       "count  319.000000  319.000000  319.000000  319.000000  319.000000  319.000000\n",
       "mean   165.648903   28.619995   25.070754   25.161174   25.184215   27.334808\n",
       "std     96.184517    2.234296    3.448811    3.860278    3.132951    3.863140\n",
       "min      1.000000   16.000000   16.000000   14.000000   20.000000   15.000000\n",
       "25%     82.500000   28.000000   23.000000   22.000000   22.000000   26.000000\n",
       "50%    167.000000   30.000000   26.000000   25.103659   25.000000   30.000000\n",
       "75%    248.500000   30.000000   28.000000   29.000000   28.000000   30.000000\n",
       "max    332.000000   30.000000   30.000000   30.000000   30.000000   30.000000"
      ]
     },
     "execution_count": 18,
     "metadata": {},
     "output_type": "execute_result"
    }
   ],
   "source": [
    "# Display the data with no outliers \n",
    "data_no_outliers = data_no_outliers[(data_no_outliers['PPL'] > lower_bound) & (data_no_outliers['PPL'] < upper_bound)]\n",
    "\n",
    "data_no_outliers.describe()"
   ]
  },
  {
   "cell_type": "markdown",
   "id": "c4404e0c",
   "metadata": {},
   "source": [
    "### Normalization"
   ]
  },
  {
   "cell_type": "code",
   "execution_count": 19,
   "id": "388cdf4c",
   "metadata": {},
   "outputs": [],
   "source": [
    "# We will use min max scaler to normalize the data\n",
    "from sklearn.preprocessing import MinMaxScaler\n",
    "\n",
    "columns = ['EM3', 'PPL']\n",
    "\n",
    "scaler = MinMaxScaler()\n",
    "data_no_outliers[['EM3', 'PPL']] = pd.DataFrame(scaler.fit_transform(data_no_outliers[columns]), columns=columns)"
   ]
  },
  {
   "cell_type": "code",
   "execution_count": 20,
   "id": "d3dd1aa6",
   "metadata": {},
   "outputs": [
    {
     "data": {
      "text/html": [
       "<div>\n",
       "<style scoped>\n",
       "    .dataframe tbody tr th:only-of-type {\n",
       "        vertical-align: middle;\n",
       "    }\n",
       "\n",
       "    .dataframe tbody tr th {\n",
       "        vertical-align: top;\n",
       "    }\n",
       "\n",
       "    .dataframe thead th {\n",
       "        text-align: right;\n",
       "    }\n",
       "</style>\n",
       "<table border=\"1\" class=\"dataframe\">\n",
       "  <thead>\n",
       "    <tr style=\"text-align: right;\">\n",
       "      <th></th>\n",
       "      <th>Sr. No</th>\n",
       "      <th>SEAT NO</th>\n",
       "      <th>DSA</th>\n",
       "      <th>EM3</th>\n",
       "      <th>MP</th>\n",
       "      <th>PPL</th>\n",
       "      <th>SE</th>\n",
       "    </tr>\n",
       "  </thead>\n",
       "  <tbody>\n",
       "    <tr>\n",
       "      <th>0</th>\n",
       "      <td>1</td>\n",
       "      <td>S190054201</td>\n",
       "      <td>28.0</td>\n",
       "      <td>0.571429</td>\n",
       "      <td>26.0</td>\n",
       "      <td>0.1</td>\n",
       "      <td>23.0</td>\n",
       "    </tr>\n",
       "    <tr>\n",
       "      <th>1</th>\n",
       "      <td>2</td>\n",
       "      <td>S190054202</td>\n",
       "      <td>30.0</td>\n",
       "      <td>0.857143</td>\n",
       "      <td>29.0</td>\n",
       "      <td>0.6</td>\n",
       "      <td>26.0</td>\n",
       "    </tr>\n",
       "    <tr>\n",
       "      <th>2</th>\n",
       "      <td>3</td>\n",
       "      <td>S190054203</td>\n",
       "      <td>29.0</td>\n",
       "      <td>0.357143</td>\n",
       "      <td>22.0</td>\n",
       "      <td>0.8</td>\n",
       "      <td>27.0</td>\n",
       "    </tr>\n",
       "    <tr>\n",
       "      <th>3</th>\n",
       "      <td>4</td>\n",
       "      <td>S190054204</td>\n",
       "      <td>30.0</td>\n",
       "      <td>0.928571</td>\n",
       "      <td>28.0</td>\n",
       "      <td>1.0</td>\n",
       "      <td>23.0</td>\n",
       "    </tr>\n",
       "    <tr>\n",
       "      <th>4</th>\n",
       "      <td>5</td>\n",
       "      <td>S190054205</td>\n",
       "      <td>30.0</td>\n",
       "      <td>0.857143</td>\n",
       "      <td>23.0</td>\n",
       "      <td>0.3</td>\n",
       "      <td>26.0</td>\n",
       "    </tr>\n",
       "    <tr>\n",
       "      <th>...</th>\n",
       "      <td>...</td>\n",
       "      <td>...</td>\n",
       "      <td>...</td>\n",
       "      <td>...</td>\n",
       "      <td>...</td>\n",
       "      <td>...</td>\n",
       "      <td>...</td>\n",
       "    </tr>\n",
       "    <tr>\n",
       "      <th>327</th>\n",
       "      <td>328</td>\n",
       "      <td>S190054528</td>\n",
       "      <td>30.0</td>\n",
       "      <td>NaN</td>\n",
       "      <td>30.0</td>\n",
       "      <td>NaN</td>\n",
       "      <td>29.0</td>\n",
       "    </tr>\n",
       "    <tr>\n",
       "      <th>328</th>\n",
       "      <td>329</td>\n",
       "      <td>S190054529</td>\n",
       "      <td>29.0</td>\n",
       "      <td>NaN</td>\n",
       "      <td>30.0</td>\n",
       "      <td>NaN</td>\n",
       "      <td>22.0</td>\n",
       "    </tr>\n",
       "    <tr>\n",
       "      <th>329</th>\n",
       "      <td>330</td>\n",
       "      <td>S190054530</td>\n",
       "      <td>29.0</td>\n",
       "      <td>NaN</td>\n",
       "      <td>30.0</td>\n",
       "      <td>NaN</td>\n",
       "      <td>22.0</td>\n",
       "    </tr>\n",
       "    <tr>\n",
       "      <th>330</th>\n",
       "      <td>331</td>\n",
       "      <td>S190054531</td>\n",
       "      <td>29.0</td>\n",
       "      <td>NaN</td>\n",
       "      <td>30.0</td>\n",
       "      <td>NaN</td>\n",
       "      <td>20.0</td>\n",
       "    </tr>\n",
       "    <tr>\n",
       "      <th>331</th>\n",
       "      <td>332</td>\n",
       "      <td>S190054532</td>\n",
       "      <td>29.0</td>\n",
       "      <td>NaN</td>\n",
       "      <td>30.0</td>\n",
       "      <td>NaN</td>\n",
       "      <td>24.0</td>\n",
       "    </tr>\n",
       "  </tbody>\n",
       "</table>\n",
       "<p>319 rows × 7 columns</p>\n",
       "</div>"
      ],
      "text/plain": [
       "     Sr. No     SEAT NO   DSA       EM3    MP  PPL    SE\n",
       "0         1  S190054201  28.0  0.571429  26.0  0.1  23.0\n",
       "1         2  S190054202  30.0  0.857143  29.0  0.6  26.0\n",
       "2         3  S190054203  29.0  0.357143  22.0  0.8  27.0\n",
       "3         4  S190054204  30.0  0.928571  28.0  1.0  23.0\n",
       "4         5  S190054205  30.0  0.857143  23.0  0.3  26.0\n",
       "..      ...         ...   ...       ...   ...  ...   ...\n",
       "327     328  S190054528  30.0       NaN  30.0  NaN  29.0\n",
       "328     329  S190054529  29.0       NaN  30.0  NaN  22.0\n",
       "329     330  S190054530  29.0       NaN  30.0  NaN  22.0\n",
       "330     331  S190054531  29.0       NaN  30.0  NaN  20.0\n",
       "331     332  S190054532  29.0       NaN  30.0  NaN  24.0\n",
       "\n",
       "[319 rows x 7 columns]"
      ]
     },
     "execution_count": 20,
     "metadata": {},
     "output_type": "execute_result"
    }
   ],
   "source": [
    "data_no_outliers"
   ]
  }
 ],
 "metadata": {
  "kernelspec": {
   "display_name": "Python 3",
   "language": "python",
   "name": "python3"
  },
  "language_info": {
   "codemirror_mode": {
    "name": "ipython",
    "version": 3
   },
   "file_extension": ".py",
   "mimetype": "text/x-python",
   "name": "python",
   "nbconvert_exporter": "python",
   "pygments_lexer": "ipython3",
   "version": "3.8.8"
  }
 },
 "nbformat": 4,
 "nbformat_minor": 5
}
